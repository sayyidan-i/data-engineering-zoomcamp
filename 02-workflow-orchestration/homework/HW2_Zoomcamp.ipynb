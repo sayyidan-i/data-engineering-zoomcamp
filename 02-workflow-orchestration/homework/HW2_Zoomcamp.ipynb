{
  "nbformat": 4,
  "nbformat_minor": 0,
  "metadata": {
    "colab": {
      "provenance": []
    },
    "kernelspec": {
      "name": "python3",
      "display_name": "Python 3"
    },
    "language_info": {
      "name": "python"
    }
  },
  "cells": [
    {
      "cell_type": "markdown",
      "source": [
        "### Week 2 Homework\n",
        "ATTENTION: At the end of the submission form, you will be required to include a link to your GitHub repository or other public code-hosting site. This repository should contain your code for solving the homework. If your solution includes code that is not in file format, please include these directly in the README file of your repository.\n",
        "\n",
        "In case you don't get one option exactly, select the closest one\n",
        "\n",
        "For the homework, we'll be working with the green taxi dataset located here:\n",
        "\n",
        "https://github.com/DataTalksClub/nyc-tlc-data/releases/tag/green/download\n",
        "\n",
        "You may need to reference the link below to download via Python in Mage:\n",
        "\n",
        "https://github.com/DataTalksClub/nyc-tlc-data/releases/download/green/\n",
        "\n",
        "Assignment\n",
        "The goal will be to construct an ETL pipeline that loads the data, performs some transformations, and writes the data to a database (and Google Cloud!).\n",
        "\n",
        "- Create a new pipeline, call it green_taxi_etl\n",
        "- Add a data loader block and use Pandas to read data for the final quarter of 2020 (months 10, 11, 12).\n",
        "- You can use the same datatypes and date parsing methods shown in the course.\n",
        "BONUS: load the final three months using a for loop and pd.concat\n",
        "- Add a transformer block and perform the following:\n",
        "- Remove rows where the passenger count is equal to 0 and the trip distance is equal to zero.\n",
        "- Create a new column lpep_pickup_date by converting lpep_pickup_datetime to a date.\n",
        "- Rename columns in Camel Case to Snake Case, e.g. VendorID to vendor_id.\n",
        "- Add three assertions:\n",
        "-- vendor_id is one of the existing values in the column (currently)\n",
        "-- passenger_count is greater than 0\n",
        "-- trip_distance is greater than 0\n",
        "- Using a Postgres data exporter (SQL or Python), write the dataset to a table called green_taxi in a schema mage. Replace the table if it already exists.\n",
        "- Write your data as Parquet files to a bucket in GCP, partioned by lpep_pickup_date. Use the pyarrow library!\n",
        "- Schedule your pipeline to run daily at 5AM UTC."
      ],
      "metadata": {
        "id": "OTTccIWbZKJ2"
      }
    },
    {
      "cell_type": "markdown",
      "source": [
        "### Question 1. Data Loading\n",
        "### Once the dataset is loaded, what's the shape of the data?\n"
      ],
      "metadata": {
        "id": "8jAnZSAHZczf"
      }
    },
    {
      "cell_type": "code",
      "source": [
        "# Data loader\n",
        "import io\n",
        "import pandas as pd\n",
        "import requests\n",
        "if 'data_loader' not in globals():\n",
        "    from mage_ai.data_preparation.decorators import data_loader\n",
        "if 'test' not in globals():\n",
        "    from mage_ai.data_preparation.decorators import test\n",
        "\n",
        "\n",
        "@data_loader\n",
        "def load_data_from_api(*args, **kwargs):\n",
        "    \"\"\"\n",
        "    Template for loading data from API\n",
        "    \"\"\"\n",
        "\n",
        "    taxi_dtypes = {\n",
        "        'VendorID': 'Int64',\n",
        "        'store_and_fwd_flag': 'str',\n",
        "        'RatecodeID': 'Int64',\n",
        "        'PULocationID': 'Int64',\n",
        "        'DOLocationID': 'Int64',\n",
        "        'passenger_count': 'Int64',\n",
        "        'trip_distance': 'float64',\n",
        "        'fare_amount': 'float64',\n",
        "        'extra': 'float64',\n",
        "        'mta_tax': 'float64',\n",
        "        'tip_amount': 'float64',\n",
        "        'tolls_amount': 'float64',\n",
        "        'ehail_fee': 'float64',\n",
        "        'improvement_surcharge': 'float64',\n",
        "        'total_amount': 'float64',\n",
        "        'payment_type': 'float64',\n",
        "        'trip_type': 'float64',\n",
        "        'congestion_surcharge': 'float64'\n",
        "    }\n",
        "\n",
        "    parse_dates_green_taxi = ['lpep_pickup_datetime', 'lpep_dropoff_datetime']\n",
        "    #parse_dates_yellow_taxi = ['tpep_pickup_datetime', 'tpep_dropoff_datetime']\n",
        "\n",
        "\n",
        "    url1 = f'https://github.com/DataTalksClub/nyc-tlc-data/releases/download/green/green_tripdata_2020-10.csv.gz'\n",
        "    url2 = f'https://github.com/DataTalksClub/nyc-tlc-data/releases/download/green/green_tripdata_2020-11.csv.gz'\n",
        "    url3 = f'https://github.com/DataTalksClub/nyc-tlc-data/releases/download/green/green_tripdata_2020-12.csv.gz'\n",
        "\n",
        "    data1 = pd.read_csv(url1, sep=',', compression='gzip', dtype=taxi_dtypes, parse_dates=parse_dates_green_taxi)\n",
        "    data2 = pd.read_csv(url2, sep=',', compression='gzip', dtype=taxi_dtypes, parse_dates=parse_dates_green_taxi)\n",
        "    data3 = pd.read_csv(url3, sep=',', compression='gzip', dtype=taxi_dtypes, parse_dates=parse_dates_green_taxi)\n",
        "\n",
        "    data_final= pd.concat([data1, data2, data3])\n",
        "\n",
        "\n",
        "    return data_final\n",
        "\n",
        "\n",
        "# @test\n",
        "# def test_output(output, *args) -> None:\n",
        "#     \"\"\"\n",
        "#     Template code for testing the output of the block.\n",
        "#     \"\"\"\n",
        "#     assert output is not None, 'The output is undefined'"
      ],
      "metadata": {
        "id": "vupH-o4IZbIm"
      },
      "execution_count": null,
      "outputs": []
    },
    {
      "cell_type": "markdown",
      "source": [
        "Output\n",
        "\n",
        "\n",
        "![image.png](data:image/png;base64,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)"
      ],
      "metadata": {
        "id": "bXXlFl3hZyNO"
      }
    },
    {
      "cell_type": "markdown",
      "source": [
        "### Question 2. Data Transformation\n",
        "### Upon filtering the dataset where the passenger count is greater than 0 and the trip distance is greater than zero, how many rows are left?"
      ],
      "metadata": {
        "id": "TlOIxYf0Z8Cs"
      }
    },
    {
      "cell_type": "code",
      "source": [
        "# Transformation\n",
        "if 'transformer' not in globals():\n",
        "    from mage_ai.data_preparation.decorators import transformer\n",
        "if 'test' not in globals():\n",
        "    from mage_ai.data_preparation.decorators import test\n",
        "\n",
        "import re\n",
        "\n",
        "\n",
        "# Add a transformer block and perform the following:\n",
        "## Remove rows where the passenger count is equal to 0 and the trip distance is equal to zero.\n",
        "## Create a new column lpep_pickup_date by converting lpep_pickup_datetime to a date.\n",
        "## Rename columns in Camel Case to Snake Case, e.g. VendorID to vendor_id.\n",
        "# Add three assertions:\n",
        "# vendor_id is one of the existing values in the column (currently)\n",
        "# passenger_count is greater than 0\n",
        "# trip_distance is greater than 0\n",
        "\n",
        "\n",
        "@transformer\n",
        "def transform(data, *args, **kwargs):\n",
        "    \"\"\"\n",
        "    Template code for a transformer block.\n",
        "\n",
        "    Add more parameters to this function if this block has multiple parent blocks.\n",
        "    There should be one parameter for each output variable from each parent block.\n",
        "\n",
        "    Args:\n",
        "        data: The output from the upstream parent block\n",
        "        args: The output from any additional upstream blocks (if applicable)\n",
        "\n",
        "    Returns:\n",
        "        Anything (e.g. data frame, dictionary, array, int, str, etc.)\n",
        "    \"\"\"\n",
        "    # Specify your transformation logic here\n",
        "    ## Remove rows where the passenger count is equal to 0 and the trip distance is equal to zero\n",
        "    nonzero_passenger_distance = data[(data['passenger_count']>0)&(data['trip_distance'] > 0)]\n",
        "\n",
        "\n",
        "\n",
        "    # Create a new column lpep_pickup_date by converting lpep_pickup_datetime to a date.\n",
        "    nonzero_passenger_distance['lpep_pickup_date'] = nonzero_passenger_distance['lpep_pickup_datetime'].dt.date\n",
        "\n",
        "    # Rename columns in Camel Case to Snake Case, e.g. VendorID to vendor_id.\n",
        "    ## column with camel case VendorID, RatecodeID, PULocationID, DOLocationID\n",
        "\n",
        "    #dictionary to map old column names to new names\n",
        "    column_rename_mapping = {'VendorID':'vendor_id', 'RatecodeID': 'ratecode_id', 'PULocationID': 'pu_location_id', 'DOLocationID':'do_location_id'}\n",
        "\n",
        "    #rename specific columns using rename() method\n",
        "    renamed = nonzero_passenger_distance.rename(columns=column_rename_mapping)\n",
        "\n",
        "    value_counts= renamed['vendor_id'].value_counts()\n",
        "    print(value_counts)\n",
        "\n",
        "\n",
        "\n",
        "    return renamed\n",
        "\n",
        "\n",
        "@test\n",
        "def test_output(output, *args) -> None:\n",
        "    \"\"\"\n",
        "    Template code for testing the output of the block.\n",
        "    \"\"\"\n",
        "    assert 'vendor_id' in output.columns, 'Column vendor_id is missing'\n",
        "\n",
        "@test\n",
        "def test_output(output, *args) -> None:\n",
        "    assert (output['passenger_count'] != 0).any(), 'Passenger_count still have nonzero'\n",
        "\n",
        "@test\n",
        "def test_output(output, *args) -> None:\n",
        "    assert (output['trip_distance'] != 0).any(), 'trip_distance still have nonzero'"
      ],
      "metadata": {
        "id": "teWIQ8wrZ13O"
      },
      "execution_count": null,
      "outputs": []
    },
    {
      "cell_type": "markdown",
      "source": [
        "Output\n",
        "\n",
        "![image.png](data:image/png;base64,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)"
      ],
      "metadata": {
        "id": "P66WNI1EaGMn"
      }
    },
    {
      "cell_type": "markdown",
      "source": [
        "### Question 3. Data Transformation\n",
        "### Which of the following creates a new column lpep_pickup_date by converting lpep_pickup_datetime to a date?\n",
        "\n",
        "```\n",
        "data['lpep_pickup_date'] = data['lpep_pickup_datetime'].dt.date\n",
        "```"
      ],
      "metadata": {
        "id": "5wJxjrFraYNv"
      }
    },
    {
      "cell_type": "markdown",
      "source": [
        "### Question 4. Data Transformation\n",
        "### What are the existing values of VendorID in the dataset?\n",
        "\n",
        "```\n",
        "value_counts= renamed['vendor_id'].value_counts()\n",
        "print(value_counts)\n",
        "```\n",
        "1 or 2"
      ],
      "metadata": {
        "id": "sZ4xg5TdaZqr"
      }
    },
    {
      "cell_type": "markdown",
      "source": [
        "### Question 5. Data Transformation\n",
        "### How many columns need to be renamed to snake case?\n",
        "```\n",
        "#dictionary to map old column names to new names\n",
        "column_rename_mapping = {'VendorID':'vendor_id', 'RatecodeID': 'ratecode_id', 'PULocationID': 'pu_location_id', 'DOLocationID':'do_location_id'}\n",
        "\n",
        "```\n",
        "\n",
        "4"
      ],
      "metadata": {
        "id": "KKVCk4vmamUt"
      }
    },
    {
      "cell_type": "markdown",
      "source": [
        "### Question 6. Data Exporting\n",
        "### Once exported, how many partitions (folders) are present in Google Cloud?\n",
        "\n",
        "Total folder partitioned by date is 95 + 1 parent folder = 96\n",
        "\n",
        "\n",
        "![image.png](data:image/png;base64,iVBORw0KGgoAAAANSUhEUgAAAMoAAAA3CAYAAABNadVvAAAAAXNSR0IArs4c6QAAAARnQU1BAACxjwv8YQUAAAAJcEhZcwAADsMAAA7DAcdvqGQAAATySURBVHhe7d1LKKV9HAfwH+8glyEjk4QZuWUW1CQ1sbBQZEOxECWywIqFjUshNCkpi3FZmSwkC0mycMsluWU1xAxyZIGFS+4M5p3ff57jPd5m+Hmd85zj7fupp/M8//PMmR/z/z7///95ZOx+/EQAcC977RUA7oGgAAggKAACCAqAAIICIICgAAjYGQwG3B4GeACeowAIYOoFIICgAAggKAACCAqAAIICIICgAAggKAACCAqAAIICIICgAAggKAACCAqAAIICIICgAAggKAACCAqAAIICIICgAAggKAACCAqAAIICIICgAAggKAACCAqAAIICYjk5OVRZWakdWdf+/j59/PhRveoBQTGDo6Mj+vz5M+Xm5tLKyorW+v/CIeGvsaqqigwGg9ZqPS0tLSokxldL0+1Xqs7OzlJDQ4N29Et1dTWFhITQ1dUVbW9v05cvX2hzc5MyMjLIzc1NO+u/u7y8pPHxcerr61PHycnJFBsbSw4ODur4vpoeY2BggC4uLigxMfH2s430qsGSjCFhbW1tlJ2drfatyTQknp6elJ+fr14tRbegTE5O0vfv3ykuLk5r+Ud/f7/6gn19fWlxcVH9Q5gjKBMTE+rql5aWpv7u7u5uCgsLow8fPqj376vpMXp7e8nb2/v2c03pVYOl2GJIjPQMi25Tr93dXXJxcdGO7kpKSqLMzEwKDw+nFy9eaK1Pw51vY2ODoqOjydnZmdzd3VXnXFtbU++x+2oyxaPC0NAQFRUVqa2np4fOzs5Ue3t7O3V0dFBjYyPV19fT8fGx9qfMW4M12HJImGk4TENjCboEhadWp6enNDo6Snl5eVRaWkozMzN0fX2tnWF+PFDe3NxoR794eHiojszTJGlN/Dk8ddra2qLa2lqqq6tT7SMjIyrUWVlZaqpYWFhIxcXFd0ZCc9VgDbYeEiO9wqJLUOzt7dVokZqaSs3NzVRQUEDDw8PqavsYvI4pLy+n9PT0Oxu38XumHB0dKTAwUK0B+OrP2/T09O0VX1oTd+Rv376pqZGrqys5OTlRTEyMOu/w8FA76/fMVYPenktIjPQIi25BiYyMpKCgILXv7+9PUVFRtLq6qp0h4+PjQzU1NdTZ2Xln4zZ+7994yvPy5Us1XeIFM09x+DzuwNKaeFTg900X6TyN4rbz83Ot5c/MUYPe3rx5o+2RTdzhkjINB4fGnHQJysHBgVrUSjqWOfHVPyUlhVpbW6msrEx18NevX6tOKq3Jzs5OTZ+MawrGIwMfS9ZT5qhBb/yspKKiQu3z7WBbeXbyJxwQfqbCOCAlJSVq35x0CQp3luXlZVpaWlJX6J2dHbUfHBysnWFZvOien5+nubk5ev/+vWqT1sQjQGhoqFpHnJycqM/idQRf/V+9eqWd9bCn1GANzyUseoSE/fXzG2Dx7wBPW3iuzp3t06dPtLCwQPHx8fTu3Ts15TDiuTt3nIiICHXFNYepqSlqampSnZLXAl5eXqpdWhOPKH5+frS3t6fmvoODgxQQEEAJCQm3NX79+lWtXzg8v/PUGqzFeMt6bGxMbcyWbmPrFRKG/8MRHsTXUh5VGI8ytjC66BkShqCAiGlY1tfX6e3bt2rfWow/56VHSBiCAmIcFg6ILdwu5pB0dXWp5096QFAABKy/YgR4BhAUAAEEBUAAQQEQQFAABBAUAAEEBeBBRH8DmKsDDIXv/6kAAAAASUVORK5CYII=)"
      ],
      "metadata": {
        "id": "O0nVt1_db2c1"
      }
    },
    {
      "cell_type": "code",
      "source": [],
      "metadata": {
        "id": "RX5SIw02aVCc"
      },
      "execution_count": null,
      "outputs": []
    }
  ]
}